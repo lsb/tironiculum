{
 "cells": [
  {
   "cell_type": "code",
   "execution_count": 1,
   "id": "88390fc6",
   "metadata": {},
   "outputs": [],
   "source": [
    "from datasets import Dataset, Audio\n",
    "from glob import glob\n",
    "from pathlib import Path\n",
    "from tqdm import tqdm"
   ]
  },
  {
   "cell_type": "code",
   "execution_count": null,
   "id": "238d1896",
   "metadata": {},
   "outputs": [],
   "source": [
    "glob_names = [\n",
    "    (\"3*\", \"lsb\"),\n",
    "    (\"2*000\", \"milli-d6vergil\"),\n",
    "    (\"1*000\", \"milli-onegrams\"),\n",
    "    (\"2*\", \"d6vergil\"),\n",
    "    (\"1*\", \"onegrams\"),\n",
    "]\n",
    "\n",
    "for (g, name) in glob_names:\n",
    "    pathnames = sorted([Path(f).name for f in glob(\"./poetaexmachina-mp3-recitations/txt/\" + g) ])\n",
    "    txt = [ (Path(\"poetaexmachina-mp3-recitations\")/\"txt\"/i).read_text() for i in tqdm(pathnames) ]\n",
    "    wavpaths = [ str(Path(\"poetaexmachina-mp3-recitations\")/\"wav\"/f\"{i}.wav\") for i in tqdm(pathnames) ]\n",
    "    d = Dataset.from_dict({\"audio\": wavpaths, \"sentence\": txt}).cast_column(\"audio\", Audio())\n",
    "    d.push_to_hub(\"lsb/poetaexmachina-recitations-\" + name)\n",
    "    "
   ]
  },
  {
   "cell_type": "code",
   "execution_count": null,
   "id": "cf05a571",
   "metadata": {},
   "outputs": [],
   "source": []
  },
  {
   "cell_type": "code",
   "execution_count": null,
   "id": "ac58519b",
   "metadata": {},
   "outputs": [],
   "source": []
  },
  {
   "cell_type": "code",
   "execution_count": null,
   "id": "adc2e536",
   "metadata": {},
   "outputs": [],
   "source": []
  }
 ],
 "metadata": {
  "kernelspec": {
   "display_name": "Python 3 (ipykernel)",
   "language": "python",
   "name": "python3"
  },
  "language_info": {
   "codemirror_mode": {
    "name": "ipython",
    "version": 3
   },
   "file_extension": ".py",
   "mimetype": "text/x-python",
   "name": "python",
   "nbconvert_exporter": "python",
   "pygments_lexer": "ipython3",
   "version": "3.9.6"
  }
 },
 "nbformat": 4,
 "nbformat_minor": 5
}
